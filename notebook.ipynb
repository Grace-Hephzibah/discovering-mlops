{
 "cells": [
  {
   "cell_type": "markdown",
   "id": "f537c4df",
   "metadata": {
    "_cell_guid": "b1076dfc-b9ad-4769-8c92-a6c4dae69d19",
    "_uuid": "8f2839f25d086af736a60e9eeb907d3b93b6e0e5",
    "papermill": {
     "duration": 0.010007,
     "end_time": "2022-11-28T18:40:12.888154",
     "exception": false,
     "start_time": "2022-11-28T18:40:12.878147",
     "status": "completed"
    },
    "tags": []
   },
   "source": [
    "# Rent price in Barcelona 2014 - 2022\n",
    "### A compilation of prices for rent in Barcelona Spain\n",
    "\n",
    "# About Dataset\n",
    "This dataset includes data on price for rent in Barcelona, Spain. The data was collected for a period of 2014 - 2022 years, divided into trimesters.The prices go by neighbourhoods and districts.This dataset includes both prices per month and prices per square meter, so that you can easier compare them.\n",
    "\n",
    "https://www.kaggle.com/datasets/marshuu/rent-price-in-barcelona-2014-2022"
   ]
  },
  {
   "cell_type": "code",
   "execution_count": 1,
   "id": "ac4e7445",
   "metadata": {
    "execution": {
     "iopub.execute_input": "2022-11-28T18:40:12.909018Z",
     "iopub.status.busy": "2022-11-28T18:40:12.908387Z",
     "iopub.status.idle": "2022-11-28T18:40:12.923856Z",
     "shell.execute_reply": "2022-11-28T18:40:12.922263Z"
    },
    "papermill": {
     "duration": 0.028333,
     "end_time": "2022-11-28T18:40:12.927201",
     "exception": false,
     "start_time": "2022-11-28T18:40:12.898868",
     "status": "completed"
    },
    "tags": []
   },
   "outputs": [],
   "source": [
    "# Importing the relevant Libraries \n",
    "import pandas as pd\n",
    "import numpy as np \n",
    "import matplotlib.pyplot as plt\n",
    "import seaborn as sns\n",
    "sns.set()\n",
    "\n",
    "# The below code removes all the warnings during execution\n",
    "import warnings\n",
    "warnings.filterwarnings('ignore')"
   ]
  },
  {
   "cell_type": "code",
   "execution_count": 2,
   "id": "b64cb078",
   "metadata": {
    "execution": {
     "iopub.execute_input": "2022-11-28T18:40:12.945957Z",
     "iopub.status.busy": "2022-11-28T18:40:12.945087Z",
     "iopub.status.idle": "2022-11-28T18:40:12.982803Z",
     "shell.execute_reply": "2022-11-28T18:40:12.981221Z"
    },
    "papermill": {
     "duration": 0.050211,
     "end_time": "2022-11-28T18:40:12.985759",
     "exception": false,
     "start_time": "2022-11-28T18:40:12.935548",
     "status": "completed"
    },
    "tags": []
   },
   "outputs": [],
   "source": [
    "# Importing the data from Kaggle \n",
    "df = pd.read_csv(\"data.csv\")"
   ]
  },
  {
   "cell_type": "code",
   "execution_count": 3,
   "id": "546896a4",
   "metadata": {
    "execution": {
     "iopub.execute_input": "2022-11-28T18:40:13.004434Z",
     "iopub.status.busy": "2022-11-28T18:40:13.003803Z",
     "iopub.status.idle": "2022-11-28T18:40:13.040516Z",
     "shell.execute_reply": "2022-11-28T18:40:13.039157Z"
    },
    "papermill": {
     "duration": 0.050285,
     "end_time": "2022-11-28T18:40:13.043694",
     "exception": false,
     "start_time": "2022-11-28T18:40:12.993409",
     "status": "completed"
    },
    "tags": []
   },
   "outputs": [
    {
     "data": {
      "text/html": [
       "<div>\n",
       "<style scoped>\n",
       "    .dataframe tbody tr th:only-of-type {\n",
       "        vertical-align: middle;\n",
       "    }\n",
       "\n",
       "    .dataframe tbody tr th {\n",
       "        vertical-align: top;\n",
       "    }\n",
       "\n",
       "    .dataframe thead th {\n",
       "        text-align: right;\n",
       "    }\n",
       "</style>\n",
       "<table border=\"1\" class=\"dataframe\">\n",
       "  <thead>\n",
       "    <tr style=\"text-align: right;\">\n",
       "      <th></th>\n",
       "      <th>Year</th>\n",
       "      <th>Trimester</th>\n",
       "      <th>District</th>\n",
       "      <th>Neighbourhood</th>\n",
       "      <th>Average _rent</th>\n",
       "      <th>Price</th>\n",
       "    </tr>\n",
       "  </thead>\n",
       "  <tbody>\n",
       "    <tr>\n",
       "      <th>0</th>\n",
       "      <td>2014</td>\n",
       "      <td>1</td>\n",
       "      <td>Ciutat Vella</td>\n",
       "      <td>el Raval</td>\n",
       "      <td>average rent (euro/month)</td>\n",
       "      <td>589.55</td>\n",
       "    </tr>\n",
       "    <tr>\n",
       "      <th>1</th>\n",
       "      <td>2014</td>\n",
       "      <td>1</td>\n",
       "      <td>Ciutat Vella</td>\n",
       "      <td>Gothic Quarter</td>\n",
       "      <td>average rent (euro/month)</td>\n",
       "      <td>712.79</td>\n",
       "    </tr>\n",
       "    <tr>\n",
       "      <th>2</th>\n",
       "      <td>2014</td>\n",
       "      <td>1</td>\n",
       "      <td>Ciutat Vella</td>\n",
       "      <td>la Barceloneta</td>\n",
       "      <td>average rent (euro/month)</td>\n",
       "      <td>540.71</td>\n",
       "    </tr>\n",
       "    <tr>\n",
       "      <th>3</th>\n",
       "      <td>2014</td>\n",
       "      <td>1</td>\n",
       "      <td>Ciutat Vella</td>\n",
       "      <td>Sant Pere, Santa Caterina i la Ribera</td>\n",
       "      <td>average rent (euro/month)</td>\n",
       "      <td>673.44</td>\n",
       "    </tr>\n",
       "    <tr>\n",
       "      <th>4</th>\n",
       "      <td>2014</td>\n",
       "      <td>1</td>\n",
       "      <td>Eixample</td>\n",
       "      <td>Fort Pienc</td>\n",
       "      <td>average rent (euro/month)</td>\n",
       "      <td>736.09</td>\n",
       "    </tr>\n",
       "  </tbody>\n",
       "</table>\n",
       "</div>"
      ],
      "text/plain": [
       "   Year  Trimester      District                          Neighbourhood  \\\n",
       "0  2014          1  Ciutat Vella                               el Raval   \n",
       "1  2014          1  Ciutat Vella                         Gothic Quarter   \n",
       "2  2014          1  Ciutat Vella                         la Barceloneta   \n",
       "3  2014          1  Ciutat Vella  Sant Pere, Santa Caterina i la Ribera   \n",
       "4  2014          1      Eixample                             Fort Pienc   \n",
       "\n",
       "               Average _rent   Price  \n",
       "0  average rent (euro/month)  589.55  \n",
       "1  average rent (euro/month)  712.79  \n",
       "2  average rent (euro/month)  540.71  \n",
       "3  average rent (euro/month)  673.44  \n",
       "4  average rent (euro/month)  736.09  "
      ]
     },
     "execution_count": 3,
     "metadata": {},
     "output_type": "execute_result"
    }
   ],
   "source": [
    "# Checking out the data \n",
    "df.head()"
   ]
  },
  {
   "cell_type": "code",
   "execution_count": 4,
   "id": "7cc0044c",
   "metadata": {
    "execution": {
     "iopub.execute_input": "2022-11-28T18:40:13.062297Z",
     "iopub.status.busy": "2022-11-28T18:40:13.061381Z",
     "iopub.status.idle": "2022-11-28T18:40:13.077750Z",
     "shell.execute_reply": "2022-11-28T18:40:13.076537Z"
    },
    "papermill": {
     "duration": 0.028744,
     "end_time": "2022-11-28T18:40:13.080419",
     "exception": false,
     "start_time": "2022-11-28T18:40:13.051675",
     "status": "completed"
    },
    "tags": []
   },
   "outputs": [
    {
     "data": {
      "text/plain": [
       "array([2014, 2015, 2016, 2017, 2018, 2019, 2020, 2021, 2022], dtype=int64)"
      ]
     },
     "execution_count": 4,
     "metadata": {},
     "output_type": "execute_result"
    }
   ],
   "source": [
    "# Checking the categorical unique values in \"Year\"\n",
    "df[\"Year\"].unique()"
   ]
  },
  {
   "cell_type": "code",
   "execution_count": 5,
   "id": "8579eb5b",
   "metadata": {
    "execution": {
     "iopub.execute_input": "2022-11-28T18:40:13.101375Z",
     "iopub.status.busy": "2022-11-28T18:40:13.100663Z",
     "iopub.status.idle": "2022-11-28T18:40:13.108989Z",
     "shell.execute_reply": "2022-11-28T18:40:13.107626Z"
    },
    "papermill": {
     "duration": 0.022874,
     "end_time": "2022-11-28T18:40:13.111567",
     "exception": false,
     "start_time": "2022-11-28T18:40:13.088693",
     "status": "completed"
    },
    "tags": []
   },
   "outputs": [
    {
     "data": {
      "text/plain": [
       "array([1, 2, 3, 4], dtype=int64)"
      ]
     },
     "execution_count": 5,
     "metadata": {},
     "output_type": "execute_result"
    }
   ],
   "source": [
    "# Checking the categorical unique values in \"Trimester\"\n",
    "df[\"Trimester\"].unique()"
   ]
  },
  {
   "cell_type": "code",
   "execution_count": 6,
   "id": "8e2e9033",
   "metadata": {
    "execution": {
     "iopub.execute_input": "2022-11-28T18:40:13.129843Z",
     "iopub.status.busy": "2022-11-28T18:40:13.129297Z",
     "iopub.status.idle": "2022-11-28T18:40:13.138821Z",
     "shell.execute_reply": "2022-11-28T18:40:13.137482Z"
    },
    "papermill": {
     "duration": 0.021759,
     "end_time": "2022-11-28T18:40:13.141374",
     "exception": false,
     "start_time": "2022-11-28T18:40:13.119615",
     "status": "completed"
    },
    "tags": []
   },
   "outputs": [
    {
     "data": {
      "text/plain": [
       "array(['Ciutat Vella', 'Eixample', 'Sants-Montjuic', 'Les Corts',\n",
       "       'Sarria-Sant Gervasi', 'Gracia', 'Horta-Guinardo', 'Nou Barris',\n",
       "       'Sant Andreu', 'Sant Marti'], dtype=object)"
      ]
     },
     "execution_count": 6,
     "metadata": {},
     "output_type": "execute_result"
    }
   ],
   "source": [
    "# Checking the categorical unique values in \"District\"\n",
    "df[\"District\"].unique()"
   ]
  },
  {
   "cell_type": "code",
   "execution_count": 7,
   "id": "dd8c323f",
   "metadata": {
    "execution": {
     "iopub.execute_input": "2022-11-28T18:40:13.160384Z",
     "iopub.status.busy": "2022-11-28T18:40:13.159937Z",
     "iopub.status.idle": "2022-11-28T18:40:13.169062Z",
     "shell.execute_reply": "2022-11-28T18:40:13.167691Z"
    },
    "papermill": {
     "duration": 0.022006,
     "end_time": "2022-11-28T18:40:13.171952",
     "exception": false,
     "start_time": "2022-11-28T18:40:13.149946",
     "status": "completed"
    },
    "tags": []
   },
   "outputs": [
    {
     "data": {
      "text/plain": [
       "array(['average rent (euro/month)', 'average rent per surface (euro/m2)'],\n",
       "      dtype=object)"
      ]
     },
     "execution_count": 7,
     "metadata": {},
     "output_type": "execute_result"
    }
   ],
   "source": [
    "# Checking the categorical unique values in \"Average _rent\"\n",
    "df[\"Average _rent\"].unique()"
   ]
  },
  {
   "cell_type": "code",
   "execution_count": 8,
   "id": "999d0d12",
   "metadata": {
    "execution": {
     "iopub.execute_input": "2022-11-28T18:40:13.192730Z",
     "iopub.status.busy": "2022-11-28T18:40:13.191937Z",
     "iopub.status.idle": "2022-11-28T18:40:13.200390Z",
     "shell.execute_reply": "2022-11-28T18:40:13.199437Z"
    },
    "papermill": {
     "duration": 0.021831,
     "end_time": "2022-11-28T18:40:13.203041",
     "exception": false,
     "start_time": "2022-11-28T18:40:13.181210",
     "status": "completed"
    },
    "tags": []
   },
   "outputs": [
    {
     "data": {
      "text/plain": [
       "array(['el Raval', 'Gothic Quarter', 'la Barceloneta',\n",
       "       'Sant Pere, Santa Caterina i la Ribera', 'Fort Pienc',\n",
       "       'Sagrada Familia', \"la Dreta de l'Eixample\",\n",
       "       \"l'Antiga Esquerra de l'Eixample\",\n",
       "       \"la Nova Esquerra de l'Eixample\", 'Sant Antoni', 'el Poble Sec',\n",
       "       'la Marina de Port', 'la Font de la Guatlla', 'Hostafrancs',\n",
       "       'la Bordeta', 'Sants - Badal', 'Sants', 'les Corts',\n",
       "       'la Maternitat i Sant Ramon', 'Pedralbes',\n",
       "       'Vallvidrera, el Tibidabo i les Planes', 'Sarria',\n",
       "       'les Tres Torres', 'Sant Gervasi - la Bonanova',\n",
       "       'Sant Gervasi - Galvany', 'el Putxet i el Farro',\n",
       "       'Vallcarca i els Penitents', 'el Coll', 'la Salut',\n",
       "       'la Vila de Gracia', \"el Camp d'en Grassot i Gracia Nova\",\n",
       "       'el Baix Guinardo', 'Can Baro', 'el Guinardo',\n",
       "       \"la Font d'en Fargues\", 'el Carmel', 'la Teixonera',\n",
       "       'Sant Genis dels Agudells', 'Montbau', \"la Vall d'Hebron\", 'Horta',\n",
       "       'Vilapicina i la Torre Llobeta', 'Porta', 'el Turo de la Peira',\n",
       "       'Can Peguera', 'la Guineueta', 'Canyelles', 'les Roquetes',\n",
       "       'Verdun', 'la Prosperitat', 'la Trinitat Nova', 'Ciutat Meridiana',\n",
       "       'la Trinitat Vella', 'el Bon Pastor', 'Sant Andreu', 'la Sagrera',\n",
       "       'el Congres i els Indians', 'Navas', \"el Camp de l'Arpa del Clot\",\n",
       "       'el Clot', 'el Parc i la Llacuna del Poblenou',\n",
       "       'la Vila Olimpica del Poblenou', 'el Poblenou',\n",
       "       'Diagonal Mar i el Front Maritim del Poblenou',\n",
       "       'el Besos i el Maresme', 'Provencals del Poblenou',\n",
       "       'Sant Marti de Provencals', 'la Verneda i la Pau', 'Torre Baro',\n",
       "       'Baro de Viver', 'la Marina del Prat Vermell', 'Vallbona',\n",
       "       'la Clota', 'la Sagrada Familia', 'Sant Martíide Provencals'],\n",
       "      dtype=object)"
      ]
     },
     "execution_count": 8,
     "metadata": {},
     "output_type": "execute_result"
    }
   ],
   "source": [
    "# Checking the categorical unique values in \"Neighbourhood\"\n",
    "df[\"Neighbourhood\"].unique()"
   ]
  },
  {
   "cell_type": "code",
   "execution_count": 9,
   "id": "e4cbbe84",
   "metadata": {
    "execution": {
     "iopub.execute_input": "2022-11-28T18:40:13.224681Z",
     "iopub.status.busy": "2022-11-28T18:40:13.223920Z",
     "iopub.status.idle": "2022-11-28T18:40:13.235426Z",
     "shell.execute_reply": "2022-11-28T18:40:13.233960Z"
    },
    "papermill": {
     "duration": 0.025306,
     "end_time": "2022-11-28T18:40:13.237755",
     "exception": false,
     "start_time": "2022-11-28T18:40:13.212449",
     "status": "completed"
    },
    "tags": []
   },
   "outputs": [
    {
     "data": {
      "text/plain": [
       "Year             0\n",
       "Trimester        0\n",
       "District         0\n",
       "Neighbourhood    0\n",
       "Average _rent    0\n",
       "Price            0\n",
       "dtype: int64"
      ]
     },
     "execution_count": 9,
     "metadata": {},
     "output_type": "execute_result"
    }
   ],
   "source": [
    "# Checking if there are any null values \n",
    "# None are found!\n",
    "df.isnull().sum()"
   ]
  },
  {
   "cell_type": "code",
   "execution_count": 10,
   "id": "00e6d84b",
   "metadata": {
    "execution": {
     "iopub.execute_input": "2022-11-28T18:40:13.258221Z",
     "iopub.status.busy": "2022-11-28T18:40:13.257258Z",
     "iopub.status.idle": "2022-11-28T18:40:13.289939Z",
     "shell.execute_reply": "2022-11-28T18:40:13.288551Z"
    },
    "papermill": {
     "duration": 0.046067,
     "end_time": "2022-11-28T18:40:13.292650",
     "exception": false,
     "start_time": "2022-11-28T18:40:13.246583",
     "status": "completed"
    },
    "tags": []
   },
   "outputs": [
    {
     "data": {
      "text/html": [
       "<div>\n",
       "<style scoped>\n",
       "    .dataframe tbody tr th:only-of-type {\n",
       "        vertical-align: middle;\n",
       "    }\n",
       "\n",
       "    .dataframe tbody tr th {\n",
       "        vertical-align: top;\n",
       "    }\n",
       "\n",
       "    .dataframe thead th {\n",
       "        text-align: right;\n",
       "    }\n",
       "</style>\n",
       "<table border=\"1\" class=\"dataframe\">\n",
       "  <thead>\n",
       "    <tr style=\"text-align: right;\">\n",
       "      <th></th>\n",
       "      <th>Year</th>\n",
       "      <th>Trimester</th>\n",
       "      <th>Price</th>\n",
       "    </tr>\n",
       "  </thead>\n",
       "  <tbody>\n",
       "    <tr>\n",
       "      <th>count</th>\n",
       "      <td>4622.000000</td>\n",
       "      <td>4622.000000</td>\n",
       "      <td>4622.000000</td>\n",
       "    </tr>\n",
       "    <tr>\n",
       "      <th>mean</th>\n",
       "      <td>2017.745565</td>\n",
       "      <td>2.440502</td>\n",
       "      <td>416.457594</td>\n",
       "    </tr>\n",
       "    <tr>\n",
       "      <th>std</th>\n",
       "      <td>2.462828</td>\n",
       "      <td>1.116377</td>\n",
       "      <td>442.872305</td>\n",
       "    </tr>\n",
       "    <tr>\n",
       "      <th>min</th>\n",
       "      <td>2014.000000</td>\n",
       "      <td>1.000000</td>\n",
       "      <td>3.180000</td>\n",
       "    </tr>\n",
       "    <tr>\n",
       "      <th>25%</th>\n",
       "      <td>2016.000000</td>\n",
       "      <td>1.000000</td>\n",
       "      <td>12.100000</td>\n",
       "    </tr>\n",
       "    <tr>\n",
       "      <th>50%</th>\n",
       "      <td>2018.000000</td>\n",
       "      <td>2.000000</td>\n",
       "      <td>81.820000</td>\n",
       "    </tr>\n",
       "    <tr>\n",
       "      <th>75%</th>\n",
       "      <td>2020.000000</td>\n",
       "      <td>3.000000</td>\n",
       "      <td>777.207500</td>\n",
       "    </tr>\n",
       "    <tr>\n",
       "      <th>max</th>\n",
       "      <td>2022.000000</td>\n",
       "      <td>4.000000</td>\n",
       "      <td>2034.000000</td>\n",
       "    </tr>\n",
       "  </tbody>\n",
       "</table>\n",
       "</div>"
      ],
      "text/plain": [
       "              Year    Trimester        Price\n",
       "count  4622.000000  4622.000000  4622.000000\n",
       "mean   2017.745565     2.440502   416.457594\n",
       "std       2.462828     1.116377   442.872305\n",
       "min    2014.000000     1.000000     3.180000\n",
       "25%    2016.000000     1.000000    12.100000\n",
       "50%    2018.000000     2.000000    81.820000\n",
       "75%    2020.000000     3.000000   777.207500\n",
       "max    2022.000000     4.000000  2034.000000"
      ]
     },
     "execution_count": 10,
     "metadata": {},
     "output_type": "execute_result"
    }
   ],
   "source": [
    "df.describe()"
   ]
  },
  {
   "cell_type": "code",
   "execution_count": 11,
   "id": "7cd883bd",
   "metadata": {
    "execution": {
     "iopub.execute_input": "2022-11-28T18:40:13.313894Z",
     "iopub.status.busy": "2022-11-28T18:40:13.313438Z",
     "iopub.status.idle": "2022-11-28T18:40:13.328988Z",
     "shell.execute_reply": "2022-11-28T18:40:13.327753Z"
    },
    "papermill": {
     "duration": 0.029857,
     "end_time": "2022-11-28T18:40:13.331845",
     "exception": false,
     "start_time": "2022-11-28T18:40:13.301988",
     "status": "completed"
    },
    "tags": []
   },
   "outputs": [],
   "source": [
    "# Categorical values must be encoded to some constant numerical value \n",
    "## Simple technique is to use the map function \n",
    "\n",
    "## list(df[\"District\"].unique()) -> gives the list of unique values \n",
    "## A list has index and element when enumerated. \n",
    "## The index itself is used as the numerical encoding. \n",
    "\n",
    "## Sorting helps it easier to find the code that corresponds to an element. \n",
    "## Consider using that for custom inputs \n",
    "\n",
    "# Encoding District \n",
    "df[\"District\"] = df[\"District\"].map({ele: index for index, ele in enumerate(list(df[\"District\"].unique()))})\n",
    "\n",
    "# Encoding Neighbourhood\n",
    "df[\"Neighbourhood\"] = df[\"Neighbourhood\"].map({ele: index for index, ele in enumerate(list(df[\"Neighbourhood\"].unique()))})\n",
    "\n",
    "# Average _rent\n",
    "df[\"Average _rent\"] = df[\"Average _rent\"].map({ele: index for index, ele in enumerate(list(df[\"Average _rent\"].unique()))})"
   ]
  },
  {
   "cell_type": "code",
   "execution_count": 12,
   "id": "123f4986",
   "metadata": {
    "execution": {
     "iopub.execute_input": "2022-11-28T18:40:13.353244Z",
     "iopub.status.busy": "2022-11-28T18:40:13.352768Z",
     "iopub.status.idle": "2022-11-28T18:40:13.365375Z",
     "shell.execute_reply": "2022-11-28T18:40:13.364280Z"
    },
    "papermill": {
     "duration": 0.026779,
     "end_time": "2022-11-28T18:40:13.367991",
     "exception": false,
     "start_time": "2022-11-28T18:40:13.341212",
     "status": "completed"
    },
    "tags": []
   },
   "outputs": [
    {
     "data": {
      "text/html": [
       "<div>\n",
       "<style scoped>\n",
       "    .dataframe tbody tr th:only-of-type {\n",
       "        vertical-align: middle;\n",
       "    }\n",
       "\n",
       "    .dataframe tbody tr th {\n",
       "        vertical-align: top;\n",
       "    }\n",
       "\n",
       "    .dataframe thead th {\n",
       "        text-align: right;\n",
       "    }\n",
       "</style>\n",
       "<table border=\"1\" class=\"dataframe\">\n",
       "  <thead>\n",
       "    <tr style=\"text-align: right;\">\n",
       "      <th></th>\n",
       "      <th>Year</th>\n",
       "      <th>Trimester</th>\n",
       "      <th>District</th>\n",
       "      <th>Neighbourhood</th>\n",
       "      <th>Average _rent</th>\n",
       "      <th>Price</th>\n",
       "    </tr>\n",
       "  </thead>\n",
       "  <tbody>\n",
       "    <tr>\n",
       "      <th>0</th>\n",
       "      <td>2014</td>\n",
       "      <td>1</td>\n",
       "      <td>0</td>\n",
       "      <td>0</td>\n",
       "      <td>0</td>\n",
       "      <td>589.55</td>\n",
       "    </tr>\n",
       "    <tr>\n",
       "      <th>1</th>\n",
       "      <td>2014</td>\n",
       "      <td>1</td>\n",
       "      <td>0</td>\n",
       "      <td>1</td>\n",
       "      <td>0</td>\n",
       "      <td>712.79</td>\n",
       "    </tr>\n",
       "    <tr>\n",
       "      <th>2</th>\n",
       "      <td>2014</td>\n",
       "      <td>1</td>\n",
       "      <td>0</td>\n",
       "      <td>2</td>\n",
       "      <td>0</td>\n",
       "      <td>540.71</td>\n",
       "    </tr>\n",
       "    <tr>\n",
       "      <th>3</th>\n",
       "      <td>2014</td>\n",
       "      <td>1</td>\n",
       "      <td>0</td>\n",
       "      <td>3</td>\n",
       "      <td>0</td>\n",
       "      <td>673.44</td>\n",
       "    </tr>\n",
       "    <tr>\n",
       "      <th>4</th>\n",
       "      <td>2014</td>\n",
       "      <td>1</td>\n",
       "      <td>1</td>\n",
       "      <td>4</td>\n",
       "      <td>0</td>\n",
       "      <td>736.09</td>\n",
       "    </tr>\n",
       "  </tbody>\n",
       "</table>\n",
       "</div>"
      ],
      "text/plain": [
       "   Year  Trimester  District  Neighbourhood  Average _rent   Price\n",
       "0  2014          1         0              0              0  589.55\n",
       "1  2014          1         0              1              0  712.79\n",
       "2  2014          1         0              2              0  540.71\n",
       "3  2014          1         0              3              0  673.44\n",
       "4  2014          1         1              4              0  736.09"
      ]
     },
     "execution_count": 12,
     "metadata": {},
     "output_type": "execute_result"
    }
   ],
   "source": [
    "# Checking the dataframe after encoding \n",
    "df.head()"
   ]
  },
  {
   "cell_type": "code",
   "execution_count": 13,
   "id": "88779782",
   "metadata": {
    "execution": {
     "iopub.execute_input": "2022-11-28T18:40:13.388549Z",
     "iopub.status.busy": "2022-11-28T18:40:13.388084Z",
     "iopub.status.idle": "2022-11-28T18:40:13.399378Z",
     "shell.execute_reply": "2022-11-28T18:40:13.398039Z"
    },
    "papermill": {
     "duration": 0.025753,
     "end_time": "2022-11-28T18:40:13.402793",
     "exception": false,
     "start_time": "2022-11-28T18:40:13.377040",
     "status": "completed"
    },
    "tags": []
   },
   "outputs": [
    {
     "data": {
      "text/plain": [
       "Year             0\n",
       "Trimester        0\n",
       "District         0\n",
       "Neighbourhood    0\n",
       "Average _rent    0\n",
       "Price            0\n",
       "dtype: int64"
      ]
     },
     "execution_count": 13,
     "metadata": {},
     "output_type": "execute_result"
    }
   ],
   "source": [
    "# Cross - verifying \n",
    "df.isnull().sum()"
   ]
  },
  {
   "cell_type": "code",
   "execution_count": 14,
   "id": "17c3f1c3",
   "metadata": {
    "execution": {
     "iopub.execute_input": "2022-11-28T18:40:13.423475Z",
     "iopub.status.busy": "2022-11-28T18:40:13.423029Z",
     "iopub.status.idle": "2022-11-28T18:40:13.443999Z",
     "shell.execute_reply": "2022-11-28T18:40:13.442011Z"
    },
    "papermill": {
     "duration": 0.035196,
     "end_time": "2022-11-28T18:40:13.447599",
     "exception": false,
     "start_time": "2022-11-28T18:40:13.412403",
     "status": "completed"
    },
    "tags": []
   },
   "outputs": [
    {
     "name": "stdout",
     "output_type": "stream",
     "text": [
      "<class 'pandas.core.frame.DataFrame'>\n",
      "RangeIndex: 4622 entries, 0 to 4621\n",
      "Data columns (total 6 columns):\n",
      " #   Column         Non-Null Count  Dtype  \n",
      "---  ------         --------------  -----  \n",
      " 0   Year           4622 non-null   int64  \n",
      " 1   Trimester      4622 non-null   int64  \n",
      " 2   District       4622 non-null   int64  \n",
      " 3   Neighbourhood  4622 non-null   int64  \n",
      " 4   Average _rent  4622 non-null   int64  \n",
      " 5   Price          4622 non-null   float64\n",
      "dtypes: float64(1), int64(5)\n",
      "memory usage: 216.8 KB\n"
     ]
    }
   ],
   "source": [
    "# Checking if the encoded values are numerical \n",
    "df.info()"
   ]
  },
  {
   "cell_type": "code",
   "execution_count": 15,
   "id": "5f3c920c",
   "metadata": {
    "execution": {
     "iopub.execute_input": "2022-11-28T18:40:13.469087Z",
     "iopub.status.busy": "2022-11-28T18:40:13.468643Z",
     "iopub.status.idle": "2022-11-28T18:40:14.890248Z",
     "shell.execute_reply": "2022-11-28T18:40:14.888584Z"
    },
    "papermill": {
     "duration": 1.436592,
     "end_time": "2022-11-28T18:40:14.893631",
     "exception": false,
     "start_time": "2022-11-28T18:40:13.457039",
     "status": "completed"
    },
    "tags": []
   },
   "outputs": [],
   "source": [
    "# Creating the train test split \n",
    "# Usual rule: 80-20\n",
    "\n",
    "# Importing the relevant library \n",
    "from sklearn.model_selection import train_test_split\n",
    "\n",
    "# Features (x) and Label (y)\n",
    "x = df.drop(columns = \"Price\", axis = 1)\n",
    "y = df[\"Price\"]\n",
    "\n",
    "# The split (train - test )\n",
    "X_train, X_test, y_train, y_test = train_test_split(x, y, test_size=0.2)"
   ]
  },
  {
   "cell_type": "markdown",
   "id": "39412441",
   "metadata": {},
   "source": [
    "# Feature Importance Plot "
   ]
  },
  {
   "cell_type": "code",
   "execution_count": 18,
   "id": "352c38a5",
   "metadata": {},
   "outputs": [
    {
     "data": {
      "image/png": "[encoded data removed]",
      "text/plain": [
       "<Figure size 640x480 with 2 Axes>"
      ]
     },
     "metadata": {},
     "output_type": "display_data"
    }
   ],
   "source": [
    "tc = df.corr()\n",
    "val = sns.heatmap(tc)\n",
    "fig = val.get_figure()\n",
    "fig.savefig(\"out.png\") "
   ]
  },
  {
   "cell_type": "markdown",
   "id": "de734838",
   "metadata": {
    "papermill": {
     "duration": 0.010199,
     "end_time": "2022-11-28T18:40:14.913083",
     "exception": false,
     "start_time": "2022-11-28T18:40:14.902884",
     "status": "completed"
    },
    "tags": []
   },
   "source": [
    "# Evaluation Metrics - Preprepared "
   ]
  },
  {
   "cell_type": "code",
   "execution_count": 19,
   "id": "efe8d326",
   "metadata": {
    "execution": {
     "iopub.execute_input": "2022-11-28T18:40:14.933805Z",
     "iopub.status.busy": "2022-11-28T18:40:14.933398Z",
     "iopub.status.idle": "2022-11-28T18:40:14.941739Z",
     "shell.execute_reply": "2022-11-28T18:40:14.940111Z"
    },
    "papermill": {
     "duration": 0.022276,
     "end_time": "2022-11-28T18:40:14.944743",
     "exception": false,
     "start_time": "2022-11-28T18:40:14.922467",
     "status": "completed"
    },
    "tags": []
   },
   "outputs": [],
   "source": [
    "# Create evaluation function (the competition uses Root Mean Square Log Error)\n",
    "from sklearn.metrics import mean_squared_log_error, mean_absolute_error\n",
    "\n",
    "def rmsle(y_test, y_preds):\n",
    "    return np.sqrt(mean_squared_log_error(y_test, y_preds))\n",
    "\n",
    "# Create function to evaluate our model\n",
    "def show_scores(model):\n",
    "    train_preds = model.predict(X_train)\n",
    "    test_preds = model.predict(X_test)\n",
    "    scores = {\"Training MAE\": mean_absolute_error(y_train, train_preds),\n",
    "              \"Valid MAE\": mean_absolute_error(y_test, test_preds),\n",
    "              \"Training RMSLE\": rmsle(y_train, train_preds),\n",
    "              \"Valid RMSLE\": rmsle(y_test, test_preds),\n",
    "              \"Training R^2\": model.score(X_train, y_train),\n",
    "              \"Valid R^2\": model.score(X_test, y_test)}\n",
    "    return scores"
   ]
  },
  {
   "cell_type": "markdown",
   "id": "589d4835",
   "metadata": {
    "execution": {
     "iopub.execute_input": "2022-11-28T17:57:10.038692Z",
     "iopub.status.busy": "2022-11-28T17:57:10.038143Z",
     "iopub.status.idle": "2022-11-28T17:57:10.045300Z",
     "shell.execute_reply": "2022-11-28T17:57:10.043797Z",
     "shell.execute_reply.started": "2022-11-28T17:57:10.038654Z"
    },
    "papermill": {
     "duration": 0.008779,
     "end_time": "2022-11-28T18:40:14.962972",
     "exception": false,
     "start_time": "2022-11-28T18:40:14.954193",
     "status": "completed"
    },
    "tags": []
   },
   "source": [
    "# About Random Forest Regressor \n",
    "\n",
    "## Documentation Link \n",
    "https://scikit-learn.org/stable/modules/generated/sklearn.ensemble.RandomForestRegressor.html"
   ]
  },
  {
   "cell_type": "markdown",
   "id": "ac369733",
   "metadata": {
    "papermill": {
     "duration": 0.008955,
     "end_time": "2022-11-28T18:40:14.982253",
     "exception": false,
     "start_time": "2022-11-28T18:40:14.973298",
     "status": "completed"
    },
    "tags": []
   },
   "source": [
    "# ML Model - Random Forest Regressor \n",
    "\n",
    "Created and tested 3 models with different criterion. They are \n",
    "1. absolute error \n",
    "2. poisson \n",
    "3. squared error "
   ]
  },
  {
   "cell_type": "code",
   "execution_count": 20,
   "id": "80780d15",
   "metadata": {
    "execution": {
     "iopub.execute_input": "2022-11-28T18:40:15.003473Z",
     "iopub.status.busy": "2022-11-28T18:40:15.003030Z",
     "iopub.status.idle": "2022-11-28T18:40:15.298246Z",
     "shell.execute_reply": "2022-11-28T18:40:15.295921Z"
    },
    "papermill": {
     "duration": 0.310096,
     "end_time": "2022-11-28T18:40:15.302136",
     "exception": false,
     "start_time": "2022-11-28T18:40:14.992040",
     "status": "completed"
    },
    "tags": []
   },
   "outputs": [],
   "source": [
    "from sklearn.ensemble import RandomForestRegressor"
   ]
  },
  {
   "cell_type": "code",
   "execution_count": 21,
   "id": "dc24ff88",
   "metadata": {
    "execution": {
     "iopub.execute_input": "2022-11-28T18:40:15.324253Z",
     "iopub.status.busy": "2022-11-28T18:40:15.323785Z",
     "iopub.status.idle": "2022-11-28T18:40:31.284193Z",
     "shell.execute_reply": "2022-11-28T18:40:31.282553Z"
    },
    "papermill": {
     "duration": 15.974514,
     "end_time": "2022-11-28T18:40:31.287152",
     "exception": false,
     "start_time": "2022-11-28T18:40:15.312638",
     "status": "completed"
    },
    "tags": []
   },
   "outputs": [
    {
     "data": {
      "text/html": [
       "<style>#sk-container-id-1 {color: black;background-color: white;}#sk-container-id-1 pre{padding: 0;}#sk-container-id-1 div.sk-toggleable {background-color: white;}#sk-container-id-1 label.sk-toggleable__label {cursor: pointer;display: block;width: 100%;margin-bottom: 0;padding: 0.3em;box-sizing: border-box;text-align: center;}#sk-container-id-1 label.sk-toggleable__label-arrow:before {content: \"▸\";float: left;margin-right: 0.25em;color: #696969;}#sk-container-id-1 label.sk-toggleable__label-arrow:hover:before {color: black;}#sk-container-id-1 div.sk-estimator:hover label.sk-toggleable__label-arrow:before {color: black;}#sk-container-id-1 div.sk-toggleable__content {max-height: 0;max-width: 0;overflow: hidden;text-align: left;background-color: #f0f8ff;}#sk-container-id-1 div.sk-toggleable__content pre {margin: 0.2em;color: black;border-radius: 0.25em;background-color: #f0f8ff;}#sk-container-id-1 input.sk-toggleable__control:checked~div.sk-toggleable__content {max-height: 200px;max-width: 100%;overflow: auto;}#sk-container-id-1 input.sk-toggleable__control:checked~label.sk-toggleable__label-arrow:before {content: \"▾\";}#sk-container-id-1 div.sk-estimator input.sk-toggleable__control:checked~label.sk-toggleable__label {background-color: #d4ebff;}#sk-container-id-1 div.sk-label input.sk-toggleable__control:checked~label.sk-toggleable__label {background-color: #d4ebff;}#sk-container-id-1 input.sk-hidden--visually {border: 0;clip: rect(1px 1px 1px 1px);clip: rect(1px, 1px, 1px, 1px);height: 1px;margin: -1px;overflow: hidden;padding: 0;position: absolute;width: 1px;}#sk-container-id-1 div.sk-estimator {font-family: monospace;background-color: #f0f8ff;border: 1px dotted black;border-radius: 0.25em;box-sizing: border-box;margin-bottom: 0.5em;}#sk-container-id-1 div.sk-estimator:hover {background-color: #d4ebff;}#sk-container-id-1 div.sk-parallel-item::after {content: \"\";width: 100%;border-bottom: 1px solid gray;flex-grow: 1;}#sk-container-id-1 div.sk-label:hover label.sk-toggleable__label {background-color: #d4ebff;}#sk-container-id-1 div.sk-serial::before {content: \"\";position: absolute;border-left: 1px solid gray;box-sizing: border-box;top: 0;bottom: 0;left: 50%;z-index: 0;}#sk-container-id-1 div.sk-serial {display: flex;flex-direction: column;align-items: center;background-color: white;padding-right: 0.2em;padding-left: 0.2em;position: relative;}#sk-container-id-1 div.sk-item {position: relative;z-index: 1;}#sk-container-id-1 div.sk-parallel {display: flex;align-items: stretch;justify-content: center;background-color: white;position: relative;}#sk-container-id-1 div.sk-item::before, #sk-container-id-1 div.sk-parallel-item::before {content: \"\";position: absolute;border-left: 1px solid gray;box-sizing: border-box;top: 0;bottom: 0;left: 50%;z-index: -1;}#sk-container-id-1 div.sk-parallel-item {display: flex;flex-direction: column;z-index: 1;position: relative;background-color: white;}#sk-container-id-1 div.sk-parallel-item:first-child::after {align-self: flex-end;width: 50%;}#sk-container-id-1 div.sk-parallel-item:last-child::after {align-self: flex-start;width: 50%;}#sk-container-id-1 div.sk-parallel-item:only-child::after {width: 0;}#sk-container-id-1 div.sk-dashed-wrapped {border: 1px dashed gray;margin: 0 0.4em 0.5em 0.4em;box-sizing: border-box;padding-bottom: 0.4em;background-color: white;}#sk-container-id-1 div.sk-label label {font-family: monospace;font-weight: bold;display: inline-block;line-height: 1.2em;}#sk-container-id-1 div.sk-label-container {text-align: center;}#sk-container-id-1 div.sk-container {/* jupyter's `normalize.less` sets `[hidden] { display: none; }` but bootstrap.min.css set `[hidden] { display: none !important; }` so we also need the `!important` here to be able to override the default hidden behavior on the sphinx rendered scikit-learn.org. See: https://github.com/scikit-learn/scikit-learn/issues/21755 */display: inline-block !important;position: relative;}#sk-container-id-1 div.sk-text-repr-fallback {display: none;}</style><div id=\"sk-container-id-1\" class=\"sk-top-container\"><div class=\"sk-text-repr-fallback\"><pre>RandomForestRegressor(criterion=&#x27;absolute_error&#x27;, max_samples=3000,\n",
       "                      n_estimators=500, n_jobs=-1)</pre><b>In a Jupyter environment, please rerun this cell to show the HTML representation or trust the notebook. <br />On GitHub, the HTML representation is unable to render, please try loading this page with nbviewer.org.</b></div><div class=\"sk-container\" hidden><div class=\"sk-item\"><div class=\"sk-estimator sk-toggleable\"><input class=\"sk-toggleable__control sk-hidden--visually\" id=\"sk-estimator-id-1\" type=\"checkbox\" checked><label for=\"sk-estimator-id-1\" class=\"sk-toggleable__label sk-toggleable__label-arrow\">RandomForestRegressor</label><div class=\"sk-toggleable__content\"><pre>RandomForestRegressor(criterion=&#x27;absolute_error&#x27;, max_samples=3000,\n",
       "                      n_estimators=500, n_jobs=-1)</pre></div></div></div></div></div>"
      ],
      "text/plain": [
       "RandomForestRegressor(criterion='absolute_error', max_samples=3000,\n",
       "                      n_estimators=500, n_jobs=-1)"
      ]
     },
     "execution_count": 21,
     "metadata": {},
     "output_type": "execute_result"
    }
   ],
   "source": [
    "model = RandomForestRegressor(\n",
    "                    n_jobs=-1,\n",
    "                    n_estimators = 500, \n",
    "                    criterion = \"absolute_error\", \n",
    "                    max_samples = 3000\n",
    "                    )\n",
    "model.fit(X_train, y_train)"
   ]
  },
  {
   "cell_type": "code",
   "execution_count": 22,
   "id": "34e3b16c",
   "metadata": {
    "execution": {
     "iopub.execute_input": "2022-11-28T18:40:31.309464Z",
     "iopub.status.busy": "2022-11-28T18:40:31.308760Z",
     "iopub.status.idle": "2022-11-28T18:40:32.443864Z",
     "shell.execute_reply": "2022-11-28T18:40:32.442172Z"
    },
    "papermill": {
     "duration": 1.149325,
     "end_time": "2022-11-28T18:40:32.446707",
     "exception": false,
     "start_time": "2022-11-28T18:40:31.297382",
     "status": "completed"
    },
    "tags": []
   },
   "outputs": [
    {
     "data": {
      "text/plain": [
       "{'Training MAE': 9.315264322423607,\n",
       " 'Valid MAE': 23.643015156756796,\n",
       " 'Training RMSLE': 0.036873387042458856,\n",
       " 'Valid RMSLE': 0.09438505215589234,\n",
       " 'Training R^2': 0.9978388548526588,\n",
       " 'Valid R^2': 0.9818971056133132}"
      ]
     },
     "execution_count": 22,
     "metadata": {},
     "output_type": "execute_result"
    }
   ],
   "source": [
    "metrics = show_scores(model)\n",
    "metrics"
   ]
  },
  {
   "cell_type": "code",
   "execution_count": 23,
   "id": "90a39cda",
   "metadata": {},
   "outputs": [],
   "source": [
    "with open(\"metrics.txt\", 'w') as outfile:\n",
    "    for key in metrics:\n",
    "        val = metrics[key]\n",
    "        text = key + \" : \" + str(val)\n",
    "        outfile.write(text)\n",
    "        outfile.write(\"\\n\")"
   ]
  },
  {
   "cell_type": "markdown",
   "id": "253b68c9",
   "metadata": {
    "execution": {
     "iopub.execute_input": "2022-11-28T18:05:13.576411Z",
     "iopub.status.busy": "2022-11-28T18:05:13.576016Z",
     "iopub.status.idle": "2022-11-28T18:05:13.581751Z",
     "shell.execute_reply": "2022-11-28T18:05:13.580357Z",
     "shell.execute_reply.started": "2022-11-28T18:05:13.576380Z"
    },
    "papermill": {
     "duration": 0.009844,
     "end_time": "2022-11-28T18:40:40.351267",
     "exception": false,
     "start_time": "2022-11-28T18:40:40.341423",
     "status": "completed"
    },
    "tags": []
   },
   "source": [
    "# Model Successfully Created ✨\n",
    "\n",
    "# Upvote this if you find useful!"
   ]
  }
 ],
 "metadata": {
  "kernelspec": {
   "display_name": "Python 3 (ipykernel)",
   "language": "python",
   "name": "python3"
  },
  "language_info": {
   "codemirror_mode": {
    "name": "ipython",
    "version": 3
   },
   "file_extension": ".py",
   "mimetype": "text/x-python",
   "name": "python",
   "nbconvert_exporter": "python",
   "pygments_lexer": "ipython3",
   "version": "3.8.16"
  },
  "papermill": {
   "default_parameters": {},
   "duration": 41.393578,
   "end_time": "2022-11-28T18:40:41.286620",
   "environment_variables": {},
   "exception": null,
   "input_path": "__notebook__.ipynb",
   "output_path": "__notebook__.ipynb",
   "parameters": {},
   "start_time": "2022-11-28T18:39:59.893042",
   "version": "2.3.4"
  }
 },
 "nbformat": 4,
 "nbformat_minor": 5
}
